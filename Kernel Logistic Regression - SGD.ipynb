{
 "cells": [
  {
   "cell_type": "code",
   "execution_count": 2,
   "metadata": {},
   "outputs": [],
   "source": [
    "%matplotlib inline\n",
    "import matplotlib.pyplot as plt"
   ]
  },
  {
   "cell_type": "code",
   "execution_count": 3,
   "metadata": {},
   "outputs": [],
   "source": [
    "import numpy as np\n",
    "from sklearn.datasets import load_iris, make_classification, make_moons, make_circles\n",
    "from sklearn.model_selection import train_test_split\n",
    "from scipy.linalg import eigh\n",
    "from math import inf\n",
    "\n",
    "from sklearn.metrics.pairwise import polynomial_kernel\n",
    "\n",
    "from sklearn.metrics import classification_report\n",
    "\n",
    "from sklearn.model_selection import GridSearchCV\n",
    "from sklearn.metrics import classification_report\n",
    "\n",
    "\n",
    "from sklearn.linear_model import LogisticRegression"
   ]
  },
  {
   "cell_type": "code",
   "execution_count": 4,
   "metadata": {},
   "outputs": [],
   "source": [
    "def plot_decision_boundary(X, y, model):\n",
    "    h = .02\n",
    "    # Plot the decision boundary. For that, we will assign a color to each\n",
    "    # point in the mesh [x_min, x_max]x[y_min, y_max].\n",
    "    x_min, x_max = X[:, 0].min() - 1, X[:, 0].max() + 1\n",
    "    y_min, y_max = X[:, 1].min() - 1, X[:, 1].max() + 1\n",
    "    xx, yy = np.meshgrid(np.arange(x_min, x_max, h), np.arange(y_min, y_max, h))\n",
    "    \n",
    "    all_data = np.c_[xx.ravel(), yy.ravel()]\n",
    "    \n",
    "    Z = np.array(model.predict(all_data))\n",
    "    Z = Z.reshape(xx.shape)    \n",
    "    \n",
    "    # Put the result into a color plot\n",
    "    plt.pcolormesh(xx, yy, Z, cmap=plt.cm.Paired)\n",
    "\n",
    "    plt.scatter(X[:, 0], X[:, 1], c = y) \n",
    "    plt.show()\n",
    "    \n",
    "# Define different kernels\n",
    "\n",
    "class linear_kernel:\n",
    "    def run(self, x, y):\n",
    "        return(np.dot(x.T, y))\n",
    "\n",
    "class poly_kernel:\n",
    "    def __init__(self, c0=1, d=3, gamma = None):\n",
    "        self.c0 = c0\n",
    "        self.d = d\n",
    "        self.gamma = gamma\n",
    "        \n",
    "    def run(self, x, y):\n",
    "        if (self.gamma == None):\n",
    "            self.gamma = 1 / x.size\n",
    "            \n",
    "        return((self.gamma * np.dot(x.T, y) + self.c0) ** self.d)\n",
    "    \n",
    "class sigmoid_kernel:\n",
    "    def __init__(self, c0=1, gamma=None):\n",
    "        self.c0 = c0\n",
    "        self.gamma = gamma\n",
    "        \n",
    "    def run(self, x, y):\n",
    "        if (self.gamma == None):\n",
    "            self.gamma = 1 / x.size\n",
    "            \n",
    "        return(np.tanh(self.gamma * np.dot(x.T, y) + self.c0))\n",
    "        \n",
    "class rbf_kernel:\n",
    "    def __init__(self, sigma):\n",
    "        self.sigma = sigma\n",
    "        \n",
    "    def run(self, x, y):\n",
    "        delta =abs(np.subtract(x, y))\n",
    "        squaredEuclidean = (np.square(delta).sum())\n",
    "        result = np.exp(-(squaredEuclidean)/(2*self.sigma**2))\n",
    "        return result\n",
    "    \n",
    "    \n",
    "def get_gram_matrix(kernel, X):\n",
    "    K = np.zeros((X.shape[0], X.shape[0]))\n",
    "    \n",
    "    for i in range(X.shape[0]):\n",
    "        for j in range(X.shape[0]):\n",
    "            K[i][j] = kernel.run(X[i], X[j])\n",
    "    return(K)\n"
   ]
  },
  {
   "cell_type": "code",
   "execution_count": 5,
   "metadata": {},
   "outputs": [
    {
     "data": {
      "image/png": "[encoded data removed]",
      "text/plain": [
       "<Figure size 432x288 with 1 Axes>"
      ]
     },
     "metadata": {
      "needs_background": "light"
     },
     "output_type": "display_data"
    }
   ],
   "source": [
    "# X, y = make_classification(n_features=2, n_redundant=0, n_informative=2, random_state = 3, n_clusters_per_class=1, class_sep = 3)\n",
    "# X, y = make_moons(n_samples = 200, noise = 0.005, random_state = 417) \n",
    "X, y = make_circles(n_samples = 200, noise = 0.05, random_state = 417, factor=0.3) \n",
    "y[y == 0] = -1\n",
    "\n",
    "plt.scatter(X[:, 0], X[:, 1], c = y) \n",
    "plt.show()"
   ]
  },
  {
   "cell_type": "code",
   "execution_count": 6,
   "metadata": {},
   "outputs": [],
   "source": [
    "X_train, X_test, y_train, y_test = train_test_split(X, y, test_size=0.33, random_state=42)\n"
   ]
  },
  {
   "cell_type": "markdown",
   "metadata": {},
   "source": [
    "# Sci-kit learn Logistic Regression"
   ]
  },
  {
   "cell_type": "code",
   "execution_count": null,
   "metadata": {},
   "outputs": [],
   "source": [
    "logisticRegr = LogisticRegression(fit_intercept=False, penalty='l2')\n",
    "logisticRegr.fit(X_train, y_train)"
   ]
  },
  {
   "cell_type": "code",
   "execution_count": null,
   "metadata": {},
   "outputs": [],
   "source": [
    "score = logisticRegr.score(X_test, y_test)\n",
    "print(score)"
   ]
  },
  {
   "cell_type": "code",
   "execution_count": null,
   "metadata": {},
   "outputs": [],
   "source": [
    "predicted = logisticRegr.predict(X_test)\n",
    "print(classification_report(y_test, predicted))"
   ]
  },
  {
   "cell_type": "code",
   "execution_count": null,
   "metadata": {},
   "outputs": [],
   "source": [
    "plot_decision_boundary(X, y, logisticRegr)"
   ]
  },
  {
   "cell_type": "markdown",
   "metadata": {},
   "source": [
    "# Kernel Logistic Regression"
   ]
  },
  {
   "cell_type": "code",
   "execution_count": 17,
   "metadata": {},
   "outputs": [],
   "source": [
    "from sklearn.base import BaseEstimator, ClassifierMixin\n",
    "\n",
    "class KernelLogisticRegression(BaseEstimator, ClassifierMixin):\n",
    "    \n",
    "    def __init__(self, krn=\"rbf\", lr=0.01, num_iter=100, lmbda=1, c0=1, d=3, gamma=0.5, sigma=5):\n",
    "        self.lr = lr\n",
    "        self.num_iter = num_iter\n",
    "        self.lmbda = lmbda\n",
    "        self.krn = krn\n",
    "        self.c0 = c0\n",
    "        self.d = d\n",
    "        self.gamma = gamma\n",
    "        self.sigma = sigma\n",
    "    \n",
    "    def __sigmoid(self, z):\n",
    "        return 1 / (1 + np.exp(-z))\n",
    "    \n",
    "    def __P_i(self, z):\n",
    "        return -self.__sigmoid(-z)\n",
    "    \n",
    "    def fit(self, X, y):\n",
    "        # weights initialization\n",
    "        self.X = X\n",
    "        \n",
    "        if (self.krn == \"rbf\"):\n",
    "            self.kernel = rbf_kernel(self.sigma)\n",
    "        if (self.krn == \"linear\"):\n",
    "            self.kernel = linear_kernel()\n",
    "        if (self.krn == \"poly\"):\n",
    "            self.kernel = poly_kernel(self.c0, self.d, self.gamma)\n",
    "        if (self.krn == \"sigmoid\"):\n",
    "            self.kernel = sigmoid_kernel(self.c0, self.gamma)\n",
    "        \n",
    "        K = get_gram_matrix(self.kernel, X)\n",
    "        self.alfa = np.zeros(K.shape[1])\n",
    "        \n",
    "        for i in range(self.num_iter):\n",
    "            prev_alfa = self.alfa\n",
    "            print(\"Epoch\", i)\n",
    "            \n",
    "            for j in range(X.shape[0]):\n",
    "                KAlfa = np.dot(K[j], self.alfa)\n",
    "                yKAlfa = y[j] * KAlfa\n",
    "                P = self.__P_i(yKAlfa)\n",
    "                gradient = P * y[j] * K[:, j]  + self.lmbda * KAlfa\n",
    "                self.alfa -= self.lr * gradient\n",
    "            \n",
    "            if (np.abs(prev_alfa - self.alfa).all() <= 0.00001):\n",
    "                print(\"Finished after\", i, \"epochs\")\n",
    "                break\n",
    "            \n",
    "    \n",
    "    def predict(self, x):\n",
    "        results = []\n",
    "        \n",
    "        for j in range(x.shape[0]):\n",
    "            s = 0\n",
    "            \n",
    "            for i in range(self.X.shape[0]):\n",
    "                s += self.alfa[i] * self.kernel.run(self.X[i], x[j])\n",
    "        \n",
    "            if self.__sigmoid(s) >= 0.5:\n",
    "                results.append(1)\n",
    "            else:\n",
    "                results.append(-1)\n",
    "        \n",
    "        return results\n",
    "            \n",
    "        \n",
    "        \n",
    "    def score(self, X, y=None):\n",
    "        # counts number of values bigger than mean\n",
    "        return (self.predict(X) == y).mean()\n",
    "        \n"
   ]
  },
  {
   "cell_type": "code",
   "execution_count": 33,
   "metadata": {},
   "outputs": [
    {
     "name": "stdout",
     "output_type": "stream",
     "text": [
      "Epoch 0\n",
      "Finished after 0 epochs\n"
     ]
    }
   ],
   "source": [
    "kernel_model = KernelLogisticRegression(krn=\"poly\", sigma=0.1, lr=0.001, num_iter=10000, d=3, gamma=1, lmbda=1)\n",
    "kernel_model.fit(X_train, y_train)"
   ]
  },
  {
   "cell_type": "code",
   "execution_count": 34,
   "metadata": {},
   "outputs": [
    {
     "data": {
      "text/plain": [
       "1.0"
      ]
     },
     "execution_count": 34,
     "metadata": {},
     "output_type": "execute_result"
    }
   ],
   "source": [
    "kernel_model.score(X_test, y_test)"
   ]
  },
  {
   "cell_type": "code",
   "execution_count": 35,
   "metadata": {},
   "outputs": [
    {
     "data": {
      "image/png": "[encoded data removed]",
      "text/plain": [
       "<Figure size 432x288 with 1 Axes>"
      ]
     },
     "metadata": {
      "needs_background": "light"
     },
     "output_type": "display_data"
    }
   ],
   "source": [
    "plot_decision_boundary(X, y, kernel_model)"
   ]
  },
  {
   "cell_type": "code",
   "execution_count": 39,
   "metadata": {},
   "outputs": [
    {
     "name": "stdout",
     "output_type": "stream",
     "text": [
      "# Tuning hyper-parameters for accuracy\n",
      "\n"
     ]
    },
    {
     "name": "stderr",
     "output_type": "stream",
     "text": [
      "/home/andrei/ml/env/lib/python3.6/site-packages/ipykernel_launcher.py:16: RuntimeWarning: overflow encountered in exp\n",
      "  app.launch_new_instance()\n",
      "/home/andrei/ml/env/lib/python3.6/site-packages/sklearn/model_selection/_search.py:814: DeprecationWarning: The default of the `iid` parameter will change from True to False in version 0.22 and will be removed in 0.24. This will change numeric results when test-set sizes are unequal.\n",
      "  DeprecationWarning)\n"
     ]
    },
    {
     "name": "stdout",
     "output_type": "stream",
     "text": [
      "Best parameters set found on development set:\n",
      "\n",
      "{'d': 5, 'gamma': 1, 'krn': 'poly', 'lr': 0.001}\n",
      "\n",
      "Grid scores on development set:\n",
      "\n",
      "0.470 (+/-0.019) for {'krn': 'rbf', 'lr': 0.001, 'sigma': 1}\n",
      "0.530 (+/-0.019) for {'krn': 'rbf', 'lr': 0.001, 'sigma': 10}\n",
      "0.530 (+/-0.019) for {'krn': 'rbf', 'lr': 0.001, 'sigma': 100}\n",
      "0.530 (+/-0.019) for {'krn': 'rbf', 'lr': 0.001, 'sigma': 1000}\n",
      "0.470 (+/-0.019) for {'krn': 'rbf', 'lr': 0.0001, 'sigma': 1}\n",
      "0.530 (+/-0.019) for {'krn': 'rbf', 'lr': 0.0001, 'sigma': 10}\n",
      "0.530 (+/-0.019) for {'krn': 'rbf', 'lr': 0.0001, 'sigma': 100}\n",
      "0.530 (+/-0.019) for {'krn': 'rbf', 'lr': 0.0001, 'sigma': 1000}\n",
      "0.530 (+/-0.019) for {'d': 2, 'gamma': 0.1, 'krn': 'poly', 'lr': 0.001}\n",
      "0.530 (+/-0.019) for {'d': 2, 'gamma': 0.1, 'krn': 'poly', 'lr': 0.0001}\n",
      "0.530 (+/-0.019) for {'d': 2, 'gamma': 1, 'krn': 'poly', 'lr': 0.001}\n",
      "0.530 (+/-0.019) for {'d': 2, 'gamma': 1, 'krn': 'poly', 'lr': 0.0001}\n",
      "0.552 (+/-0.046) for {'d': 2, 'gamma': 2, 'krn': 'poly', 'lr': 0.001}\n",
      "0.530 (+/-0.019) for {'d': 2, 'gamma': 2, 'krn': 'poly', 'lr': 0.0001}\n",
      "0.634 (+/-0.105) for {'d': 2, 'gamma': 3, 'krn': 'poly', 'lr': 0.001}\n",
      "0.530 (+/-0.019) for {'d': 2, 'gamma': 3, 'krn': 'poly', 'lr': 0.0001}\n",
      "0.664 (+/-0.141) for {'d': 2, 'gamma': 4, 'krn': 'poly', 'lr': 0.001}\n",
      "0.530 (+/-0.019) for {'d': 2, 'gamma': 4, 'krn': 'poly', 'lr': 0.0001}\n",
      "0.530 (+/-0.019) for {'d': 3, 'gamma': 0.1, 'krn': 'poly', 'lr': 0.001}\n",
      "0.530 (+/-0.019) for {'d': 3, 'gamma': 0.1, 'krn': 'poly', 'lr': 0.0001}\n",
      "0.545 (+/-0.039) for {'d': 3, 'gamma': 1, 'krn': 'poly', 'lr': 0.001}\n",
      "0.530 (+/-0.019) for {'d': 3, 'gamma': 1, 'krn': 'poly', 'lr': 0.0001}\n",
      "0.642 (+/-0.129) for {'d': 3, 'gamma': 2, 'krn': 'poly', 'lr': 0.001}\n",
      "0.530 (+/-0.019) for {'d': 3, 'gamma': 2, 'krn': 'poly', 'lr': 0.0001}\n",
      "0.739 (+/-0.189) for {'d': 3, 'gamma': 3, 'krn': 'poly', 'lr': 0.001}\n",
      "0.530 (+/-0.019) for {'d': 3, 'gamma': 3, 'krn': 'poly', 'lr': 0.0001}\n",
      "0.575 (+/-0.221) for {'d': 3, 'gamma': 4, 'krn': 'poly', 'lr': 0.001}\n",
      "0.530 (+/-0.019) for {'d': 3, 'gamma': 4, 'krn': 'poly', 'lr': 0.0001}\n",
      "0.530 (+/-0.019) for {'d': 4, 'gamma': 0.1, 'krn': 'poly', 'lr': 0.001}\n",
      "0.530 (+/-0.019) for {'d': 4, 'gamma': 0.1, 'krn': 'poly', 'lr': 0.0001}\n",
      "0.619 (+/-0.069) for {'d': 4, 'gamma': 1, 'krn': 'poly', 'lr': 0.001}\n",
      "0.530 (+/-0.019) for {'d': 4, 'gamma': 1, 'krn': 'poly', 'lr': 0.0001}\n",
      "0.470 (+/-0.019) for {'d': 4, 'gamma': 2, 'krn': 'poly', 'lr': 0.001}\n",
      "0.530 (+/-0.019) for {'d': 4, 'gamma': 2, 'krn': 'poly', 'lr': 0.0001}\n",
      "0.470 (+/-0.019) for {'d': 4, 'gamma': 3, 'krn': 'poly', 'lr': 0.001}\n",
      "0.567 (+/-0.099) for {'d': 4, 'gamma': 3, 'krn': 'poly', 'lr': 0.0001}\n",
      "0.470 (+/-0.019) for {'d': 4, 'gamma': 4, 'krn': 'poly', 'lr': 0.001}\n",
      "0.590 (+/-0.254) for {'d': 4, 'gamma': 4, 'krn': 'poly', 'lr': 0.0001}\n",
      "0.530 (+/-0.019) for {'d': 5, 'gamma': 0.1, 'krn': 'poly', 'lr': 0.001}\n",
      "0.530 (+/-0.019) for {'d': 5, 'gamma': 0.1, 'krn': 'poly', 'lr': 0.0001}\n",
      "0.821 (+/-0.094) for {'d': 5, 'gamma': 1, 'krn': 'poly', 'lr': 0.001}\n",
      "0.530 (+/-0.019) for {'d': 5, 'gamma': 1, 'krn': 'poly', 'lr': 0.0001}\n",
      "0.470 (+/-0.019) for {'d': 5, 'gamma': 2, 'krn': 'poly', 'lr': 0.001}\n",
      "0.582 (+/-0.117) for {'d': 5, 'gamma': 2, 'krn': 'poly', 'lr': 0.0001}\n",
      "0.507 (+/-0.163) for {'d': 5, 'gamma': 3, 'krn': 'poly', 'lr': 0.001}\n",
      "0.470 (+/-0.019) for {'d': 5, 'gamma': 3, 'krn': 'poly', 'lr': 0.0001}\n",
      "0.552 (+/-0.200) for {'d': 5, 'gamma': 4, 'krn': 'poly', 'lr': 0.001}\n",
      "0.552 (+/-0.200) for {'d': 5, 'gamma': 4, 'krn': 'poly', 'lr': 0.0001}\n",
      "\n",
      "Detailed classification report:\n",
      "\n",
      "The model is trained on the full development set.\n",
      "The scores are computed on the full evaluation set.\n",
      "\n",
      "              precision    recall  f1-score   support\n",
      "\n",
      "          -1       0.66      1.00      0.79        29\n",
      "           1       1.00      0.59      0.75        37\n",
      "\n",
      "    accuracy                           0.77        66\n",
      "   macro avg       0.83      0.80      0.77        66\n",
      "weighted avg       0.85      0.77      0.77        66\n",
      "\n",
      "\n"
     ]
    }
   ],
   "source": [
    "\n",
    "# Set the parameters by cross-validation\n",
    "tuned_parameters = [{'krn': ['rbf'], 'lr': [0.1, 0.01, 0.001, 0.0001], 'sigma': [0.01 0.1, 0.5, 1, 10], 'lmbda': [0.01, 0.1, 1, 2, 3]},\n",
    "                    {'krn': ['poly'], 'lr': [1e-3, 1e-4], 'gamma': [0.1, 1, 2, 3, 4], 'd': [2, 3, 4, 5]}]\n",
    "\n",
    "scores = ['accuracy']\n",
    "\n",
    "for score in scores:\n",
    "    print(\"# Tuning hyper-parameters for %s\" % score)\n",
    "    print()\n",
    "\n",
    "    clf = GridSearchCV(KernelLogisticRegression(), tuned_parameters, cv=5,\n",
    "                       scoring='%s' % score)\n",
    "    clf.fit(X_train, y_train)\n",
    "\n",
    "    print(\"Best parameters set found on development set:\")\n",
    "    print()\n",
    "    print(clf.best_params_)\n",
    "    print()\n",
    "    print(\"Grid scores on development set:\")\n",
    "    print()\n",
    "    means = clf.cv_results_['mean_test_score']\n",
    "    stds = clf.cv_results_['std_test_score']\n",
    "    for mean, std, params in zip(means, stds, clf.cv_results_['params']):\n",
    "        print(\"%0.3f (+/-%0.03f) for %r\"\n",
    "              % (mean, std * 2, params))\n",
    "    print()\n",
    "\n",
    "    print(\"Detailed classification report:\")\n",
    "    print()\n",
    "    print(\"The model is trained on the full development set.\")\n",
    "    print(\"The scores are computed on the full evaluation set.\")\n",
    "    print()\n",
    "    y_true, y_pred = y_test, clf.predict(X_test)\n",
    "    print(classification_report(y_true, y_pred))\n",
    "    print()\n"
   ]
  },
  {
   "cell_type": "code",
   "execution_count": 13,
   "metadata": {},
   "outputs": [
    {
     "name": "stdout",
     "output_type": "stream",
     "text": [
      "Finished after 2 epochs\n"
     ]
    }
   ],
   "source": []
  },
  {
   "cell_type": "code",
   "execution_count": null,
   "metadata": {},
   "outputs": [],
   "source": []
  }
 ],
 "metadata": {
  "kernelspec": {
   "display_name": "Python 3",
   "language": "python",
   "name": "python3"
  },
  "language_info": {
   "codemirror_mode": {
    "name": "ipython",
    "version": 3
   },
   "file_extension": ".py",
   "mimetype": "text/x-python",
   "name": "python",
   "nbconvert_exporter": "python",
   "pygments_lexer": "ipython3",
   "version": "3.6.8"
  }
 },
 "nbformat": 4,
 "nbformat_minor": 2
}
